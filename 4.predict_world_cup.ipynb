{
 "cells": [
  {
   "cell_type": "code",
   "execution_count": 1,
   "id": "d15b2944",
   "metadata": {},
   "outputs": [
    {
     "name": "stdout",
     "output_type": "stream",
     "text": [
      "Requirement already satisfied: pandas in c:\\users\\admin\\anaconda3\\lib\\site-packages (1.4.4)\n",
      "Requirement already satisfied: python-dateutil>=2.8.1 in c:\\users\\admin\\anaconda3\\lib\\site-packages (from pandas) (2.8.2)\n",
      "Requirement already satisfied: numpy>=1.18.5 in c:\\users\\admin\\anaconda3\\lib\\site-packages (from pandas) (1.21.5)\n",
      "Requirement already satisfied: pytz>=2020.1 in c:\\users\\admin\\anaconda3\\lib\\site-packages (from pandas) (2022.1)\n",
      "Requirement already satisfied: six>=1.5 in c:\\users\\admin\\anaconda3\\lib\\site-packages (from python-dateutil>=2.8.1->pandas) (1.16.0)\n"
     ]
    }
   ],
   "source": [
    "import pandas as pd\n",
    "import pickle\n",
    "from scipy.stats import poisson\n",
    "\n",
    "!pip install pandas"
   ]
  },
  {
   "cell_type": "code",
   "execution_count": 2,
   "id": "aad9c693",
   "metadata": {},
   "outputs": [
    {
     "ename": "FileNotFoundError",
     "evalue": "[Errno 2] No such file or directory: 'dict_table'",
     "output_type": "error",
     "traceback": [
      "\u001b[1;31m---------------------------------------------------------------------------\u001b[0m",
      "\u001b[1;31mFileNotFoundError\u001b[0m                         Traceback (most recent call last)",
      "\u001b[1;32m~\\AppData\\Local\\Temp\\ipykernel_7096\\3837209205.py\u001b[0m in \u001b[0;36m<module>\u001b[1;34m\u001b[0m\n\u001b[1;32m----> 1\u001b[1;33m \u001b[0mdict_table\u001b[0m \u001b[1;33m=\u001b[0m \u001b[0mpickle\u001b[0m\u001b[1;33m.\u001b[0m\u001b[0mload\u001b[0m\u001b[1;33m(\u001b[0m\u001b[0mopen\u001b[0m\u001b[1;33m(\u001b[0m\u001b[1;34m'dict_table'\u001b[0m\u001b[1;33m,\u001b[0m\u001b[1;34m'rb'\u001b[0m\u001b[1;33m)\u001b[0m\u001b[1;33m)\u001b[0m\u001b[1;33m\u001b[0m\u001b[1;33m\u001b[0m\u001b[0m\n\u001b[0m\u001b[0;32m      2\u001b[0m \u001b[0mdf_historical_data\u001b[0m \u001b[1;33m=\u001b[0m \u001b[0mpd\u001b[0m\u001b[1;33m.\u001b[0m\u001b[0mread_csv\u001b[0m\u001b[1;33m(\u001b[0m\u001b[1;34m'clean_fifa_worldcup_matches.csv'\u001b[0m\u001b[1;33m)\u001b[0m\u001b[1;33m\u001b[0m\u001b[1;33m\u001b[0m\u001b[0m\n\u001b[0;32m      3\u001b[0m \u001b[0mdf_fixture\u001b[0m \u001b[1;33m=\u001b[0m \u001b[0mpd\u001b[0m\u001b[1;33m.\u001b[0m\u001b[0mread_csv\u001b[0m\u001b[1;33m(\u001b[0m\u001b[1;34m'clean_fifa_worldcup_fixture.csv'\u001b[0m\u001b[1;33m)\u001b[0m\u001b[1;33m\u001b[0m\u001b[1;33m\u001b[0m\u001b[0m\n",
      "\u001b[1;31mFileNotFoundError\u001b[0m: [Errno 2] No such file or directory: 'dict_table'"
     ]
    }
   ],
   "source": [
    "dict_table = pickle.load(open('dict_table','rb'))\n",
    "df_historical_data = pd.read_csv('clean_fifa_worldcup_matches.csv')\n",
    "df_fixture = pd.read_csv('clean_fifa_worldcup_fixture.csv')"
   ]
  },
  {
   "cell_type": "markdown",
   "id": "e2a7fdf3",
   "metadata": {},
   "source": [
    "# Calculate Team Strength"
   ]
  },
  {
   "cell_type": "code",
   "execution_count": null,
   "id": "4e65ba2b",
   "metadata": {
    "scrolled": false
   },
   "outputs": [],
   "source": [
    "df_home = df_historical_data[['HomeTeam', 'HomeGoals', 'AwayGoals']]\n",
    "df_away = df_historical_data[['AwayTeam', 'HomeGoals', 'AwayGoals']]\n",
    "\n",
    "df_home = df_home.rename(columns={'HomeTeam':'Team', 'HomeGoals': 'GoalsScored', 'AwayGoals': 'GoalsConceded'})\n",
    "df_away = df_away.rename(columns={'AwayTeam':'Team', 'HomeGoals': 'GoalsConceded', 'AwayGoals': 'GoalsScored'})\n",
    "\n",
    "df_team_strength = pd.concat([f, df_away], ignore_index=True).groupby(['Team']).mean()\n",
    "df_team_strength"
   ]
  },
  {
   "cell_type": "markdown",
   "id": "1dc8a108",
   "metadata": {},
   "source": [
    "# Function predict_points"
   ]
  },
  {
   "cell_type": "code",
   "execution_count": 3,
   "id": "6b2baf3d",
   "metadata": {},
   "outputs": [],
   "source": [
    "def predict_points(home, away):\n",
    "    if home in df_team_strength.index and away in df_team_strength.index:\n",
    "        # goals_scored * goals_conceded\n",
    "        lamb_home = df_team_strength.at[home,'GoalsScored'] * df_team_strength.at[away,'GoalsConceded']\n",
    "        lamb_away = df_team_strength.at[away,'GoalsScored'] * df_team_strength.at[home,'GoalsConceded']\n",
    "        prob_home, prob_away, prob_draw = 0, 0, 0\n",
    "        for x in range(0,11): #number of goals home team\n",
    "            for y in range(0, 11): #number of goals away team\n",
    "                p = poisson.pmf(x, lamb_home) * poisson.pmf(y, lamb_away)\n",
    "                if x == y:\n",
    "                    prob_draw += p\n",
    "                elif x > y:\n",
    "                    prob_home += p\n",
    "                else:\n",
    "                    prob_away += p\n",
    "        \n",
    "        points_home = 3 * prob_home + prob_draw\n",
    "        points_away = 3 * prob_away + prob_draw\n",
    "        return (points_home, points_away)\n",
    "    else:\n",
    "        return (0, 0)"
   ]
  },
  {
   "cell_type": "markdown",
   "id": "c80b2446",
   "metadata": {},
   "source": [
    "## Testing function"
   ]
  },
  {
   "cell_type": "code",
   "execution_count": 4,
   "id": "e637692e",
   "metadata": {
    "scrolled": true
   },
   "outputs": [
    {
     "ename": "NameError",
     "evalue": "name 'df_team_strength' is not defined",
     "output_type": "error",
     "traceback": [
      "\u001b[1;31m---------------------------------------------------------------------------\u001b[0m",
      "\u001b[1;31mNameError\u001b[0m                                 Traceback (most recent call last)",
      "\u001b[1;32m~\\AppData\\Local\\Temp\\ipykernel_7096\\1549529782.py\u001b[0m in \u001b[0;36m<module>\u001b[1;34m\u001b[0m\n\u001b[1;32m----> 1\u001b[1;33m \u001b[0mprint\u001b[0m\u001b[1;33m(\u001b[0m\u001b[0mpredict_points\u001b[0m\u001b[1;33m(\u001b[0m\u001b[1;34m'England'\u001b[0m\u001b[1;33m,\u001b[0m \u001b[1;34m'United States'\u001b[0m\u001b[1;33m)\u001b[0m\u001b[1;33m)\u001b[0m\u001b[1;33m\u001b[0m\u001b[1;33m\u001b[0m\u001b[0m\n\u001b[0m\u001b[0;32m      2\u001b[0m \u001b[0mprint\u001b[0m\u001b[1;33m(\u001b[0m\u001b[0mpredict_points\u001b[0m\u001b[1;33m(\u001b[0m\u001b[1;34m'Argentina'\u001b[0m\u001b[1;33m,\u001b[0m \u001b[1;34m'Mexico'\u001b[0m\u001b[1;33m)\u001b[0m\u001b[1;33m)\u001b[0m\u001b[1;33m\u001b[0m\u001b[1;33m\u001b[0m\u001b[0m\n\u001b[0;32m      3\u001b[0m \u001b[0mprint\u001b[0m\u001b[1;33m(\u001b[0m\u001b[0mpredict_points\u001b[0m\u001b[1;33m(\u001b[0m\u001b[1;34m'Qatar (H)'\u001b[0m\u001b[1;33m,\u001b[0m \u001b[1;34m'Ecuador'\u001b[0m\u001b[1;33m)\u001b[0m\u001b[1;33m)\u001b[0m \u001b[1;31m# Qatar vs Team X -> 0 points to both\u001b[0m\u001b[1;33m\u001b[0m\u001b[1;33m\u001b[0m\u001b[0m\n",
      "\u001b[1;32m~\\AppData\\Local\\Temp\\ipykernel_7096\\2143134357.py\u001b[0m in \u001b[0;36mpredict_points\u001b[1;34m(home, away)\u001b[0m\n\u001b[0;32m      1\u001b[0m \u001b[1;32mdef\u001b[0m \u001b[0mpredict_points\u001b[0m\u001b[1;33m(\u001b[0m\u001b[0mhome\u001b[0m\u001b[1;33m,\u001b[0m \u001b[0maway\u001b[0m\u001b[1;33m)\u001b[0m\u001b[1;33m:\u001b[0m\u001b[1;33m\u001b[0m\u001b[1;33m\u001b[0m\u001b[0m\n\u001b[1;32m----> 2\u001b[1;33m     \u001b[1;32mif\u001b[0m \u001b[0mhome\u001b[0m \u001b[1;32min\u001b[0m \u001b[0mdf_team_strength\u001b[0m\u001b[1;33m.\u001b[0m\u001b[0mindex\u001b[0m \u001b[1;32mand\u001b[0m \u001b[0maway\u001b[0m \u001b[1;32min\u001b[0m \u001b[0mdf_team_strength\u001b[0m\u001b[1;33m.\u001b[0m\u001b[0mindex\u001b[0m\u001b[1;33m:\u001b[0m\u001b[1;33m\u001b[0m\u001b[1;33m\u001b[0m\u001b[0m\n\u001b[0m\u001b[0;32m      3\u001b[0m         \u001b[1;31m# goals_scored * goals_conceded\u001b[0m\u001b[1;33m\u001b[0m\u001b[1;33m\u001b[0m\u001b[0m\n\u001b[0;32m      4\u001b[0m         \u001b[0mlamb_home\u001b[0m \u001b[1;33m=\u001b[0m \u001b[0mdf_team_strength\u001b[0m\u001b[1;33m.\u001b[0m\u001b[0mat\u001b[0m\u001b[1;33m[\u001b[0m\u001b[0mhome\u001b[0m\u001b[1;33m,\u001b[0m\u001b[1;34m'GoalsScored'\u001b[0m\u001b[1;33m]\u001b[0m \u001b[1;33m*\u001b[0m \u001b[0mdf_team_strength\u001b[0m\u001b[1;33m.\u001b[0m\u001b[0mat\u001b[0m\u001b[1;33m[\u001b[0m\u001b[0maway\u001b[0m\u001b[1;33m,\u001b[0m\u001b[1;34m'GoalsConceded'\u001b[0m\u001b[1;33m]\u001b[0m\u001b[1;33m\u001b[0m\u001b[1;33m\u001b[0m\u001b[0m\n\u001b[0;32m      5\u001b[0m         \u001b[0mlamb_away\u001b[0m \u001b[1;33m=\u001b[0m \u001b[0mdf_team_strength\u001b[0m\u001b[1;33m.\u001b[0m\u001b[0mat\u001b[0m\u001b[1;33m[\u001b[0m\u001b[0maway\u001b[0m\u001b[1;33m,\u001b[0m\u001b[1;34m'GoalsScored'\u001b[0m\u001b[1;33m]\u001b[0m \u001b[1;33m*\u001b[0m \u001b[0mdf_team_strength\u001b[0m\u001b[1;33m.\u001b[0m\u001b[0mat\u001b[0m\u001b[1;33m[\u001b[0m\u001b[0mhome\u001b[0m\u001b[1;33m,\u001b[0m\u001b[1;34m'GoalsConceded'\u001b[0m\u001b[1;33m]\u001b[0m\u001b[1;33m\u001b[0m\u001b[1;33m\u001b[0m\u001b[0m\n",
      "\u001b[1;31mNameError\u001b[0m: name 'df_team_strength' is not defined"
     ]
    }
   ],
   "source": [
    "print(predict_points('England', 'United States'))\n",
    "print(predict_points('Argentina', 'Mexico'))\n",
    "print(predict_points('Qatar (H)', 'Ecuador')) # Qatar vs Team X -> 0 points to both"
   ]
  },
  {
   "cell_type": "markdown",
   "id": "01b660e0",
   "metadata": {},
   "source": [
    "# Predicting World Cup"
   ]
  },
  {
   "cell_type": "markdown",
   "id": "74308e2d",
   "metadata": {},
   "source": [
    "## Group stage"
   ]
  },
  {
   "cell_type": "code",
   "execution_count": 6,
   "id": "2afedebc",
   "metadata": {
    "scrolled": true
   },
   "outputs": [],
   "source": [
    "df_fixture_group_48 = df_fixture[:48].copy()\n",
    "df_fixture_knockout = df_fixture[48:56].copy()\n",
    "df_fixture_quarter = df_fixture[56:60].copy()\n",
    "df_fixture_semi = df_fixture[60:62].copy()\n",
    "df_fixture_final = df_fixture[62:].copy()"
   ]
  },
  {
   "cell_type": "code",
   "execution_count": 7,
   "id": "2072fa74",
   "metadata": {},
   "outputs": [],
   "source": [
    "for group in dict_table:\n",
    "    teams_in_group = dict_table[group]['Team'].values\n",
    "    df_fixture_group_6 = df_fixture_group_48[df_fixture_group_48['home'].isin(teams_in_group)]\n",
    "    for index, row in df_fixture_group_6.iterrows():\n",
    "        home, away = row['home'], row['away']\n",
    "        points_home, points_away = predict_points(home, away)\n",
    "        dict_table[group].loc[dict_table[group]['Team'] == home, 'Pts'] += points_home\n",
    "        dict_table[group].loc[dict_table[group]['Team'] == away, 'Pts'] += points_away\n",
    "\n",
    "    dict_table[group] = dict_table[group].sort_values('Pts', ascending=False).reset_index()\n",
    "    dict_table[group] = dict_table[group][['Team', 'Pts']]\n",
    "    dict_table[group] = dict_table[group].round(0)"
   ]
  },
  {
   "cell_type": "code",
   "execution_count": 2,
   "id": "4ccf61dc",
   "metadata": {},
   "outputs": [
    {
     "ename": "NameError",
     "evalue": "name 'dict_table' is not defined",
     "output_type": "error",
     "traceback": [
      "\u001b[1;31m---------------------------------------------------------------------------\u001b[0m",
      "\u001b[1;31mNameError\u001b[0m                                 Traceback (most recent call last)",
      "\u001b[1;32m~\\AppData\\Local\\Temp\\ipykernel_1908\\2388888629.py\u001b[0m in \u001b[0;36m<module>\u001b[1;34m\u001b[0m\n\u001b[1;32m----> 1\u001b[1;33m \u001b[0mdict_table\u001b[0m\u001b[1;33m[\u001b[0m\u001b[1;34m'Group F'\u001b[0m\u001b[1;33m]\u001b[0m\u001b[1;33m\u001b[0m\u001b[1;33m\u001b[0m\u001b[0m\n\u001b[0m",
      "\u001b[1;31mNameError\u001b[0m: name 'dict_table' is not defined"
     ]
    }
   ],
   "source": [
    "dict_table['Group F']"
   ]
  },
  {
   "cell_type": "markdown",
   "id": "33727ec8",
   "metadata": {},
   "source": [
    "## Knock out"
   ]
  },
  {
   "cell_type": "code",
   "execution_count": 9,
   "id": "2821c0c6",
   "metadata": {},
   "outputs": [
    {
     "data": {
      "text/html": [
       "<div>\n",
       "<style scoped>\n",
       "    .dataframe tbody tr th:only-of-type {\n",
       "        vertical-align: middle;\n",
       "    }\n",
       "\n",
       "    .dataframe tbody tr th {\n",
       "        vertical-align: top;\n",
       "    }\n",
       "\n",
       "    .dataframe thead th {\n",
       "        text-align: right;\n",
       "    }\n",
       "</style>\n",
       "<table border=\"1\" class=\"dataframe\">\n",
       "  <thead>\n",
       "    <tr style=\"text-align: right;\">\n",
       "      <th></th>\n",
       "      <th>home</th>\n",
       "      <th>score</th>\n",
       "      <th>away</th>\n",
       "      <th>year</th>\n",
       "    </tr>\n",
       "  </thead>\n",
       "  <tbody>\n",
       "    <tr>\n",
       "      <th>48</th>\n",
       "      <td>Winners Group A</td>\n",
       "      <td>Match 49</td>\n",
       "      <td>Runners-up Group B</td>\n",
       "      <td>2022</td>\n",
       "    </tr>\n",
       "    <tr>\n",
       "      <th>49</th>\n",
       "      <td>Winners Group C</td>\n",
       "      <td>Match 50</td>\n",
       "      <td>Runners-up Group D</td>\n",
       "      <td>2022</td>\n",
       "    </tr>\n",
       "    <tr>\n",
       "      <th>50</th>\n",
       "      <td>Winners Group D</td>\n",
       "      <td>Match 52</td>\n",
       "      <td>Runners-up Group C</td>\n",
       "      <td>2022</td>\n",
       "    </tr>\n",
       "    <tr>\n",
       "      <th>51</th>\n",
       "      <td>Winners Group B</td>\n",
       "      <td>Match 51</td>\n",
       "      <td>Runners-up Group A</td>\n",
       "      <td>2022</td>\n",
       "    </tr>\n",
       "    <tr>\n",
       "      <th>52</th>\n",
       "      <td>Winners Group E</td>\n",
       "      <td>Match 53</td>\n",
       "      <td>Runners-up Group F</td>\n",
       "      <td>2022</td>\n",
       "    </tr>\n",
       "    <tr>\n",
       "      <th>53</th>\n",
       "      <td>Winners Group G</td>\n",
       "      <td>Match 54</td>\n",
       "      <td>Runners-up Group H</td>\n",
       "      <td>2022</td>\n",
       "    </tr>\n",
       "    <tr>\n",
       "      <th>54</th>\n",
       "      <td>Winners Group F</td>\n",
       "      <td>Match 55</td>\n",
       "      <td>Runners-up Group E</td>\n",
       "      <td>2022</td>\n",
       "    </tr>\n",
       "    <tr>\n",
       "      <th>55</th>\n",
       "      <td>Winners Group H</td>\n",
       "      <td>Match 56</td>\n",
       "      <td>Runners-up Group G</td>\n",
       "      <td>2022</td>\n",
       "    </tr>\n",
       "  </tbody>\n",
       "</table>\n",
       "</div>"
      ],
      "text/plain": [
       "               home     score                away  year\n",
       "48  Winners Group A  Match 49  Runners-up Group B  2022\n",
       "49  Winners Group C  Match 50  Runners-up Group D  2022\n",
       "50  Winners Group D  Match 52  Runners-up Group C  2022\n",
       "51  Winners Group B  Match 51  Runners-up Group A  2022\n",
       "52  Winners Group E  Match 53  Runners-up Group F  2022\n",
       "53  Winners Group G  Match 54  Runners-up Group H  2022\n",
       "54  Winners Group F  Match 55  Runners-up Group E  2022\n",
       "55  Winners Group H  Match 56  Runners-up Group G  2022"
      ]
     },
     "execution_count": 9,
     "metadata": {},
     "output_type": "execute_result"
    }
   ],
   "source": [
    "df_fixture_knockout"
   ]
  },
  {
   "cell_type": "code",
   "execution_count": 10,
   "id": "6937ae74",
   "metadata": {
    "scrolled": true
   },
   "outputs": [
    {
     "data": {
      "text/html": [
       "<div>\n",
       "<style scoped>\n",
       "    .dataframe tbody tr th:only-of-type {\n",
       "        vertical-align: middle;\n",
       "    }\n",
       "\n",
       "    .dataframe tbody tr th {\n",
       "        vertical-align: top;\n",
       "    }\n",
       "\n",
       "    .dataframe thead th {\n",
       "        text-align: right;\n",
       "    }\n",
       "</style>\n",
       "<table border=\"1\" class=\"dataframe\">\n",
       "  <thead>\n",
       "    <tr style=\"text-align: right;\">\n",
       "      <th></th>\n",
       "      <th>home</th>\n",
       "      <th>score</th>\n",
       "      <th>away</th>\n",
       "      <th>year</th>\n",
       "      <th>winner</th>\n",
       "    </tr>\n",
       "  </thead>\n",
       "  <tbody>\n",
       "    <tr>\n",
       "      <th>48</th>\n",
       "      <td>Netherlands</td>\n",
       "      <td>Match 49</td>\n",
       "      <td>Wales</td>\n",
       "      <td>2022</td>\n",
       "      <td>?</td>\n",
       "    </tr>\n",
       "    <tr>\n",
       "      <th>49</th>\n",
       "      <td>Argentina</td>\n",
       "      <td>Match 50</td>\n",
       "      <td>Denmark</td>\n",
       "      <td>2022</td>\n",
       "      <td>?</td>\n",
       "    </tr>\n",
       "    <tr>\n",
       "      <th>50</th>\n",
       "      <td>France</td>\n",
       "      <td>Match 52</td>\n",
       "      <td>Poland</td>\n",
       "      <td>2022</td>\n",
       "      <td>?</td>\n",
       "    </tr>\n",
       "    <tr>\n",
       "      <th>51</th>\n",
       "      <td>England</td>\n",
       "      <td>Match 51</td>\n",
       "      <td>Senegal</td>\n",
       "      <td>2022</td>\n",
       "      <td>?</td>\n",
       "    </tr>\n",
       "    <tr>\n",
       "      <th>52</th>\n",
       "      <td>Germany</td>\n",
       "      <td>Match 53</td>\n",
       "      <td>Belgium</td>\n",
       "      <td>2022</td>\n",
       "      <td>?</td>\n",
       "    </tr>\n",
       "    <tr>\n",
       "      <th>53</th>\n",
       "      <td>Brazil</td>\n",
       "      <td>Match 54</td>\n",
       "      <td>Uruguay</td>\n",
       "      <td>2022</td>\n",
       "      <td>?</td>\n",
       "    </tr>\n",
       "    <tr>\n",
       "      <th>54</th>\n",
       "      <td>Croatia</td>\n",
       "      <td>Match 55</td>\n",
       "      <td>Spain</td>\n",
       "      <td>2022</td>\n",
       "      <td>?</td>\n",
       "    </tr>\n",
       "    <tr>\n",
       "      <th>55</th>\n",
       "      <td>Portugal</td>\n",
       "      <td>Match 56</td>\n",
       "      <td>Switzerland</td>\n",
       "      <td>2022</td>\n",
       "      <td>?</td>\n",
       "    </tr>\n",
       "  </tbody>\n",
       "</table>\n",
       "</div>"
      ],
      "text/plain": [
       "           home     score         away  year winner\n",
       "48  Netherlands  Match 49        Wales  2022      ?\n",
       "49    Argentina  Match 50      Denmark  2022      ?\n",
       "50       France  Match 52       Poland  2022      ?\n",
       "51      England  Match 51      Senegal  2022      ?\n",
       "52      Germany  Match 53      Belgium  2022      ?\n",
       "53       Brazil  Match 54      Uruguay  2022      ?\n",
       "54      Croatia  Match 55        Spain  2022      ?\n",
       "55     Portugal  Match 56  Switzerland  2022      ?"
      ]
     },
     "execution_count": 10,
     "metadata": {},
     "output_type": "execute_result"
    }
   ],
   "source": [
    "for group in dict_table:\n",
    "    group_winner = dict_table[group].loc[0, 'Team']\n",
    "    runners_up = dict_table[group].loc[1, 'Team']\n",
    "    df_fixture_knockout.replace({f'Winners {group}':group_winner,\n",
    "                                 f'Runners-up {group}':runners_up}, inplace=True)\n",
    "\n",
    "df_fixture_knockout['winner'] = '?'\n",
    "df_fixture_knockout"
   ]
  },
  {
   "cell_type": "code",
   "execution_count": 11,
   "id": "cab70cec",
   "metadata": {},
   "outputs": [],
   "source": [
    "def get_winner(df_fixture_updated):\n",
    "    for index, row in df_fixture_updated.iterrows():\n",
    "        home, away = row['home'], row['away']\n",
    "        points_home, points_away = predict_points(home, away)\n",
    "        if points_home > points_away:\n",
    "            winner = home\n",
    "        else:\n",
    "            winner = away\n",
    "        df_fixture_updated.loc[index, 'winner'] = winner\n",
    "    return df_fixture_updated"
   ]
  },
  {
   "cell_type": "code",
   "execution_count": 12,
   "id": "ca37144f",
   "metadata": {},
   "outputs": [
    {
     "data": {
      "text/html": [
       "<div>\n",
       "<style scoped>\n",
       "    .dataframe tbody tr th:only-of-type {\n",
       "        vertical-align: middle;\n",
       "    }\n",
       "\n",
       "    .dataframe tbody tr th {\n",
       "        vertical-align: top;\n",
       "    }\n",
       "\n",
       "    .dataframe thead th {\n",
       "        text-align: right;\n",
       "    }\n",
       "</style>\n",
       "<table border=\"1\" class=\"dataframe\">\n",
       "  <thead>\n",
       "    <tr style=\"text-align: right;\">\n",
       "      <th></th>\n",
       "      <th>home</th>\n",
       "      <th>score</th>\n",
       "      <th>away</th>\n",
       "      <th>year</th>\n",
       "      <th>winner</th>\n",
       "    </tr>\n",
       "  </thead>\n",
       "  <tbody>\n",
       "    <tr>\n",
       "      <th>48</th>\n",
       "      <td>Netherlands</td>\n",
       "      <td>Match 49</td>\n",
       "      <td>Wales</td>\n",
       "      <td>2022</td>\n",
       "      <td>Netherlands</td>\n",
       "    </tr>\n",
       "    <tr>\n",
       "      <th>49</th>\n",
       "      <td>Argentina</td>\n",
       "      <td>Match 50</td>\n",
       "      <td>Denmark</td>\n",
       "      <td>2022</td>\n",
       "      <td>Argentina</td>\n",
       "    </tr>\n",
       "    <tr>\n",
       "      <th>50</th>\n",
       "      <td>France</td>\n",
       "      <td>Match 52</td>\n",
       "      <td>Poland</td>\n",
       "      <td>2022</td>\n",
       "      <td>France</td>\n",
       "    </tr>\n",
       "    <tr>\n",
       "      <th>51</th>\n",
       "      <td>England</td>\n",
       "      <td>Match 51</td>\n",
       "      <td>Senegal</td>\n",
       "      <td>2022</td>\n",
       "      <td>England</td>\n",
       "    </tr>\n",
       "    <tr>\n",
       "      <th>52</th>\n",
       "      <td>Germany</td>\n",
       "      <td>Match 53</td>\n",
       "      <td>Belgium</td>\n",
       "      <td>2022</td>\n",
       "      <td>Germany</td>\n",
       "    </tr>\n",
       "    <tr>\n",
       "      <th>53</th>\n",
       "      <td>Brazil</td>\n",
       "      <td>Match 54</td>\n",
       "      <td>Uruguay</td>\n",
       "      <td>2022</td>\n",
       "      <td>Brazil</td>\n",
       "    </tr>\n",
       "    <tr>\n",
       "      <th>54</th>\n",
       "      <td>Croatia</td>\n",
       "      <td>Match 55</td>\n",
       "      <td>Spain</td>\n",
       "      <td>2022</td>\n",
       "      <td>Spain</td>\n",
       "    </tr>\n",
       "    <tr>\n",
       "      <th>55</th>\n",
       "      <td>Portugal</td>\n",
       "      <td>Match 56</td>\n",
       "      <td>Switzerland</td>\n",
       "      <td>2022</td>\n",
       "      <td>Portugal</td>\n",
       "    </tr>\n",
       "  </tbody>\n",
       "</table>\n",
       "</div>"
      ],
      "text/plain": [
       "           home     score         away  year       winner\n",
       "48  Netherlands  Match 49        Wales  2022  Netherlands\n",
       "49    Argentina  Match 50      Denmark  2022    Argentina\n",
       "50       France  Match 52       Poland  2022       France\n",
       "51      England  Match 51      Senegal  2022      England\n",
       "52      Germany  Match 53      Belgium  2022      Germany\n",
       "53       Brazil  Match 54      Uruguay  2022       Brazil\n",
       "54      Croatia  Match 55        Spain  2022        Spain\n",
       "55     Portugal  Match 56  Switzerland  2022     Portugal"
      ]
     },
     "execution_count": 12,
     "metadata": {},
     "output_type": "execute_result"
    }
   ],
   "source": [
    "get_winner(df_fixture_knockout)"
   ]
  },
  {
   "cell_type": "markdown",
   "id": "5ef66f16",
   "metadata": {},
   "source": [
    "## Quarter Final"
   ]
  },
  {
   "cell_type": "code",
   "execution_count": 13,
   "id": "d3b199c7",
   "metadata": {},
   "outputs": [],
   "source": [
    "def update_table(df_fixture_round_1, df_fixture_round_2):\n",
    "    for index, row in df_fixture_round_1.iterrows():\n",
    "        winner = df_fixture_round_1.loc[index, 'winner']\n",
    "        match = df_fixture_round_1.loc[index, 'score']\n",
    "        df_fixture_round_2.replace({f'Winners {match}':winner}, inplace=True)\n",
    "    df_fixture_round_2['winner'] = '?'\n",
    "    return df_fixture_round_2"
   ]
  },
  {
   "cell_type": "code",
   "execution_count": 14,
   "id": "948fb0ee",
   "metadata": {},
   "outputs": [
    {
     "data": {
      "text/html": [
       "<div>\n",
       "<style scoped>\n",
       "    .dataframe tbody tr th:only-of-type {\n",
       "        vertical-align: middle;\n",
       "    }\n",
       "\n",
       "    .dataframe tbody tr th {\n",
       "        vertical-align: top;\n",
       "    }\n",
       "\n",
       "    .dataframe thead th {\n",
       "        text-align: right;\n",
       "    }\n",
       "</style>\n",
       "<table border=\"1\" class=\"dataframe\">\n",
       "  <thead>\n",
       "    <tr style=\"text-align: right;\">\n",
       "      <th></th>\n",
       "      <th>home</th>\n",
       "      <th>score</th>\n",
       "      <th>away</th>\n",
       "      <th>year</th>\n",
       "      <th>winner</th>\n",
       "    </tr>\n",
       "  </thead>\n",
       "  <tbody>\n",
       "    <tr>\n",
       "      <th>56</th>\n",
       "      <td>Germany</td>\n",
       "      <td>Match 58</td>\n",
       "      <td>Brazil</td>\n",
       "      <td>2022</td>\n",
       "      <td>?</td>\n",
       "    </tr>\n",
       "    <tr>\n",
       "      <th>57</th>\n",
       "      <td>Netherlands</td>\n",
       "      <td>Match 57</td>\n",
       "      <td>Argentina</td>\n",
       "      <td>2022</td>\n",
       "      <td>?</td>\n",
       "    </tr>\n",
       "    <tr>\n",
       "      <th>58</th>\n",
       "      <td>Spain</td>\n",
       "      <td>Match 60</td>\n",
       "      <td>Portugal</td>\n",
       "      <td>2022</td>\n",
       "      <td>?</td>\n",
       "    </tr>\n",
       "    <tr>\n",
       "      <th>59</th>\n",
       "      <td>England</td>\n",
       "      <td>Match 59</td>\n",
       "      <td>France</td>\n",
       "      <td>2022</td>\n",
       "      <td>?</td>\n",
       "    </tr>\n",
       "  </tbody>\n",
       "</table>\n",
       "</div>"
      ],
      "text/plain": [
       "           home     score       away  year winner\n",
       "56      Germany  Match 58     Brazil  2022      ?\n",
       "57  Netherlands  Match 57  Argentina  2022      ?\n",
       "58        Spain  Match 60   Portugal  2022      ?\n",
       "59      England  Match 59     France  2022      ?"
      ]
     },
     "execution_count": 14,
     "metadata": {},
     "output_type": "execute_result"
    }
   ],
   "source": [
    "update_table(df_fixture_knockout, df_fixture_quarter)"
   ]
  },
  {
   "cell_type": "code",
   "execution_count": 15,
   "id": "720c7b5f",
   "metadata": {
    "scrolled": true
   },
   "outputs": [
    {
     "data": {
      "text/html": [
       "<div>\n",
       "<style scoped>\n",
       "    .dataframe tbody tr th:only-of-type {\n",
       "        vertical-align: middle;\n",
       "    }\n",
       "\n",
       "    .dataframe tbody tr th {\n",
       "        vertical-align: top;\n",
       "    }\n",
       "\n",
       "    .dataframe thead th {\n",
       "        text-align: right;\n",
       "    }\n",
       "</style>\n",
       "<table border=\"1\" class=\"dataframe\">\n",
       "  <thead>\n",
       "    <tr style=\"text-align: right;\">\n",
       "      <th></th>\n",
       "      <th>home</th>\n",
       "      <th>score</th>\n",
       "      <th>away</th>\n",
       "      <th>year</th>\n",
       "      <th>winner</th>\n",
       "    </tr>\n",
       "  </thead>\n",
       "  <tbody>\n",
       "    <tr>\n",
       "      <th>56</th>\n",
       "      <td>Germany</td>\n",
       "      <td>Match 58</td>\n",
       "      <td>Brazil</td>\n",
       "      <td>2022</td>\n",
       "      <td>Brazil</td>\n",
       "    </tr>\n",
       "    <tr>\n",
       "      <th>57</th>\n",
       "      <td>Netherlands</td>\n",
       "      <td>Match 57</td>\n",
       "      <td>Argentina</td>\n",
       "      <td>2022</td>\n",
       "      <td>Netherlands</td>\n",
       "    </tr>\n",
       "    <tr>\n",
       "      <th>58</th>\n",
       "      <td>Spain</td>\n",
       "      <td>Match 60</td>\n",
       "      <td>Portugal</td>\n",
       "      <td>2022</td>\n",
       "      <td>Portugal</td>\n",
       "    </tr>\n",
       "    <tr>\n",
       "      <th>59</th>\n",
       "      <td>England</td>\n",
       "      <td>Match 59</td>\n",
       "      <td>France</td>\n",
       "      <td>2022</td>\n",
       "      <td>France</td>\n",
       "    </tr>\n",
       "  </tbody>\n",
       "</table>\n",
       "</div>"
      ],
      "text/plain": [
       "           home     score       away  year       winner\n",
       "56      Germany  Match 58     Brazil  2022       Brazil\n",
       "57  Netherlands  Match 57  Argentina  2022  Netherlands\n",
       "58        Spain  Match 60   Portugal  2022     Portugal\n",
       "59      England  Match 59     France  2022       France"
      ]
     },
     "execution_count": 15,
     "metadata": {},
     "output_type": "execute_result"
    }
   ],
   "source": [
    "get_winner(df_fixture_quarter)"
   ]
  },
  {
   "cell_type": "markdown",
   "id": "272b75b9",
   "metadata": {},
   "source": [
    "## Semifinal"
   ]
  },
  {
   "cell_type": "code",
   "execution_count": 16,
   "id": "75f35428",
   "metadata": {},
   "outputs": [
    {
     "data": {
      "text/html": [
       "<div>\n",
       "<style scoped>\n",
       "    .dataframe tbody tr th:only-of-type {\n",
       "        vertical-align: middle;\n",
       "    }\n",
       "\n",
       "    .dataframe tbody tr th {\n",
       "        vertical-align: top;\n",
       "    }\n",
       "\n",
       "    .dataframe thead th {\n",
       "        text-align: right;\n",
       "    }\n",
       "</style>\n",
       "<table border=\"1\" class=\"dataframe\">\n",
       "  <thead>\n",
       "    <tr style=\"text-align: right;\">\n",
       "      <th></th>\n",
       "      <th>home</th>\n",
       "      <th>score</th>\n",
       "      <th>away</th>\n",
       "      <th>year</th>\n",
       "      <th>winner</th>\n",
       "    </tr>\n",
       "  </thead>\n",
       "  <tbody>\n",
       "    <tr>\n",
       "      <th>60</th>\n",
       "      <td>Netherlands</td>\n",
       "      <td>Match 61</td>\n",
       "      <td>Brazil</td>\n",
       "      <td>2022</td>\n",
       "      <td>?</td>\n",
       "    </tr>\n",
       "    <tr>\n",
       "      <th>61</th>\n",
       "      <td>France</td>\n",
       "      <td>Match 62</td>\n",
       "      <td>Portugal</td>\n",
       "      <td>2022</td>\n",
       "      <td>?</td>\n",
       "    </tr>\n",
       "  </tbody>\n",
       "</table>\n",
       "</div>"
      ],
      "text/plain": [
       "           home     score      away  year winner\n",
       "60  Netherlands  Match 61    Brazil  2022      ?\n",
       "61       France  Match 62  Portugal  2022      ?"
      ]
     },
     "execution_count": 16,
     "metadata": {},
     "output_type": "execute_result"
    }
   ],
   "source": [
    "update_table(df_fixture_quarter, df_fixture_semi)"
   ]
  },
  {
   "cell_type": "code",
   "execution_count": 17,
   "id": "e1524099",
   "metadata": {},
   "outputs": [
    {
     "data": {
      "text/html": [
       "<div>\n",
       "<style scoped>\n",
       "    .dataframe tbody tr th:only-of-type {\n",
       "        vertical-align: middle;\n",
       "    }\n",
       "\n",
       "    .dataframe tbody tr th {\n",
       "        vertical-align: top;\n",
       "    }\n",
       "\n",
       "    .dataframe thead th {\n",
       "        text-align: right;\n",
       "    }\n",
       "</style>\n",
       "<table border=\"1\" class=\"dataframe\">\n",
       "  <thead>\n",
       "    <tr style=\"text-align: right;\">\n",
       "      <th></th>\n",
       "      <th>home</th>\n",
       "      <th>score</th>\n",
       "      <th>away</th>\n",
       "      <th>year</th>\n",
       "      <th>winner</th>\n",
       "    </tr>\n",
       "  </thead>\n",
       "  <tbody>\n",
       "    <tr>\n",
       "      <th>60</th>\n",
       "      <td>Netherlands</td>\n",
       "      <td>Match 61</td>\n",
       "      <td>Brazil</td>\n",
       "      <td>2022</td>\n",
       "      <td>Brazil</td>\n",
       "    </tr>\n",
       "    <tr>\n",
       "      <th>61</th>\n",
       "      <td>France</td>\n",
       "      <td>Match 62</td>\n",
       "      <td>Portugal</td>\n",
       "      <td>2022</td>\n",
       "      <td>France</td>\n",
       "    </tr>\n",
       "  </tbody>\n",
       "</table>\n",
       "</div>"
      ],
      "text/plain": [
       "           home     score      away  year  winner\n",
       "60  Netherlands  Match 61    Brazil  2022  Brazil\n",
       "61       France  Match 62  Portugal  2022  France"
      ]
     },
     "execution_count": 17,
     "metadata": {},
     "output_type": "execute_result"
    }
   ],
   "source": [
    "get_winner(df_fixture_semi)"
   ]
  },
  {
   "cell_type": "markdown",
   "id": "26439e8f",
   "metadata": {},
   "source": [
    "## Final"
   ]
  },
  {
   "cell_type": "code",
   "execution_count": 18,
   "id": "da072631",
   "metadata": {},
   "outputs": [
    {
     "data": {
      "text/html": [
       "<div>\n",
       "<style scoped>\n",
       "    .dataframe tbody tr th:only-of-type {\n",
       "        vertical-align: middle;\n",
       "    }\n",
       "\n",
       "    .dataframe tbody tr th {\n",
       "        vertical-align: top;\n",
       "    }\n",
       "\n",
       "    .dataframe thead th {\n",
       "        text-align: right;\n",
       "    }\n",
       "</style>\n",
       "<table border=\"1\" class=\"dataframe\">\n",
       "  <thead>\n",
       "    <tr style=\"text-align: right;\">\n",
       "      <th></th>\n",
       "      <th>home</th>\n",
       "      <th>score</th>\n",
       "      <th>away</th>\n",
       "      <th>year</th>\n",
       "      <th>winner</th>\n",
       "    </tr>\n",
       "  </thead>\n",
       "  <tbody>\n",
       "    <tr>\n",
       "      <th>62</th>\n",
       "      <td>Losers Match 61</td>\n",
       "      <td>Match 63</td>\n",
       "      <td>Losers Match 62</td>\n",
       "      <td>2022</td>\n",
       "      <td>?</td>\n",
       "    </tr>\n",
       "    <tr>\n",
       "      <th>63</th>\n",
       "      <td>Brazil</td>\n",
       "      <td>Match 64</td>\n",
       "      <td>France</td>\n",
       "      <td>2022</td>\n",
       "      <td>?</td>\n",
       "    </tr>\n",
       "  </tbody>\n",
       "</table>\n",
       "</div>"
      ],
      "text/plain": [
       "               home     score             away  year winner\n",
       "62  Losers Match 61  Match 63  Losers Match 62  2022      ?\n",
       "63           Brazil  Match 64           France  2022      ?"
      ]
     },
     "execution_count": 18,
     "metadata": {},
     "output_type": "execute_result"
    }
   ],
   "source": [
    "update_table(df_fixture_semi, df_fixture_final)"
   ]
  },
  {
   "cell_type": "code",
   "execution_count": 19,
   "id": "4b2795e4",
   "metadata": {},
   "outputs": [
    {
     "data": {
      "text/html": [
       "<div>\n",
       "<style scoped>\n",
       "    .dataframe tbody tr th:only-of-type {\n",
       "        vertical-align: middle;\n",
       "    }\n",
       "\n",
       "    .dataframe tbody tr th {\n",
       "        vertical-align: top;\n",
       "    }\n",
       "\n",
       "    .dataframe thead th {\n",
       "        text-align: right;\n",
       "    }\n",
       "</style>\n",
       "<table border=\"1\" class=\"dataframe\">\n",
       "  <thead>\n",
       "    <tr style=\"text-align: right;\">\n",
       "      <th></th>\n",
       "      <th>home</th>\n",
       "      <th>score</th>\n",
       "      <th>away</th>\n",
       "      <th>year</th>\n",
       "      <th>winner</th>\n",
       "    </tr>\n",
       "  </thead>\n",
       "  <tbody>\n",
       "    <tr>\n",
       "      <th>62</th>\n",
       "      <td>Losers Match 61</td>\n",
       "      <td>Match 63</td>\n",
       "      <td>Losers Match 62</td>\n",
       "      <td>2022</td>\n",
       "      <td>Losers Match 62</td>\n",
       "    </tr>\n",
       "    <tr>\n",
       "      <th>63</th>\n",
       "      <td>Brazil</td>\n",
       "      <td>Match 64</td>\n",
       "      <td>France</td>\n",
       "      <td>2022</td>\n",
       "      <td>Brazil</td>\n",
       "    </tr>\n",
       "  </tbody>\n",
       "</table>\n",
       "</div>"
      ],
      "text/plain": [
       "               home     score             away  year           winner\n",
       "62  Losers Match 61  Match 63  Losers Match 62  2022  Losers Match 62\n",
       "63           Brazil  Match 64           France  2022           Brazil"
      ]
     },
     "execution_count": 19,
     "metadata": {},
     "output_type": "execute_result"
    }
   ],
   "source": [
    "get_winner(df_fixture_final)"
   ]
  }
 ],
 "metadata": {
  "kernelspec": {
   "display_name": "Python 3 (ipykernel)",
   "language": "python",
   "name": "python3"
  },
  "language_info": {
   "codemirror_mode": {
    "name": "ipython",
    "version": 3
   },
   "file_extension": ".py",
   "mimetype": "text/x-python",
   "name": "python",
   "nbconvert_exporter": "python",
   "pygments_lexer": "ipython3",
   "version": "3.9.13"
  },
  "toc": {
   "base_numbering": 1,
   "nav_menu": {},
   "number_sections": true,
   "sideBar": true,
   "skip_h1_title": false,
   "title_cell": "Table of Contents",
   "title_sidebar": "Contents",
   "toc_cell": false,
   "toc_position": {},
   "toc_section_display": true,
   "toc_window_display": false
  }
 },
 "nbformat": 4,
 "nbformat_minor": 5
}
